{
 "cells": [
  {
   "cell_type": "markdown",
   "id": "d9c2d444",
   "metadata": {},
   "source": [
    "## INSERT SQL을 autocommit=False"
   ]
  },
  {
   "cell_type": "code",
   "execution_count": 1,
   "id": "141ab47e",
   "metadata": {},
   "outputs": [],
   "source": [
    "import psycopg2\n",
    "\n",
    "def get_connection(autocommit):\n",
    "    host=\"localhost\"\n",
    "    user=\"postgres\"\n",
    "    password=\"1234\"\n",
    "    port=5432\n",
    "    dbname=\"postgres\"\n",
    "    conn = psycopg2.connect(\"dbname={dbname} user={user} host={host} password={password} port={port}\".format(\n",
    "    dbname=dbname,\n",
    "    user=user,\n",
    "    host=host,\n",
    "    password=password,\n",
    "    port=port))\n",
    "    conn.set_session(autocommit=autocommit)\n",
    "    return conn"
   ]
  },
  {
   "cell_type": "code",
   "execution_count": 2,
   "id": "f164013a",
   "metadata": {},
   "outputs": [],
   "source": [
    "conn = get_connection(False)\n",
    "cur = conn.cursor()"
   ]
  },
  {
   "cell_type": "code",
   "execution_count": 3,
   "id": "20d27b26",
   "metadata": {},
   "outputs": [
    {
     "name": "stdout",
     "output_type": "stream",
     "text": [
      "('Ben', 'MALE')\n",
      "('Maddie', 'FEMALE')\n"
     ]
    }
   ],
   "source": [
    "cur.execute(\"SELECT * FROM name_gender;\")\n",
    "res = cur.fetchall()\n",
    "for r in res:\n",
    "    print(r)"
   ]
  },
  {
   "cell_type": "code",
   "execution_count": 26,
   "id": "41ec298f",
   "metadata": {},
   "outputs": [],
   "source": [
    "cur.execute(\"DELETE FROM name_gender;\")\n",
    "cur.execute(\"SELECT * FROM name_gender;\")\n",
    "res = cur.fetchall()\n",
    "for r in res:\n",
    "    print(r)"
   ]
  },
  {
   "cell_type": "code",
   "execution_count": 33,
   "id": "76515e29",
   "metadata": {},
   "outputs": [
    {
     "name": "stdout",
     "output_type": "stream",
     "text": [
      "('Gyeonghwan', 'MALE')\n"
     ]
    }
   ],
   "source": [
    "cur.execute(\"INSERT INTO name_gender VALUES ('Gyeonghwan','MALE');\")\n",
    "cur.execute(\"SELECT * FROM name_gender;\")\n",
    "res = cur.fetchall()\n",
    "for r in res:\n",
    "    print(r)"
   ]
  },
  {
   "cell_type": "code",
   "execution_count": 34,
   "id": "dc7a94f8",
   "metadata": {},
   "outputs": [],
   "source": [
    "conn.commit()"
   ]
  },
  {
   "cell_type": "code",
   "execution_count": 32,
   "id": "22618aab",
   "metadata": {},
   "outputs": [],
   "source": [
    "conn.rollback()"
   ]
  },
  {
   "cell_type": "code",
   "execution_count": 35,
   "id": "3de81bd7",
   "metadata": {},
   "outputs": [],
   "source": [
    "conn.close()"
   ]
  },
  {
   "cell_type": "markdown",
   "id": "7f79530e",
   "metadata": {},
   "source": [
    "## INSERT SQL 을 autocommit=False로 실행하고 psycopg2로 컨트롤하기"
   ]
  },
  {
   "cell_type": "code",
   "execution_count": 40,
   "id": "6b82e3e8",
   "metadata": {},
   "outputs": [],
   "source": [
    "conn = get_connection(False)\n",
    "cur = conn.cursor()\n",
    "\n",
    "try: \n",
    "    # cur.execute(\"DELETE FROM name_gender;\")\n",
    "    cur.execute(\"INSERT INTO name_gender VALUES ('Gyeonghwan','MALE');\")\n",
    "    conn.commit()\n",
    "except (Exception, psycopg2.DatabaseError) as error:\n",
    "    print(error)\n",
    "    conn.rollback()\n",
    "finally:\n",
    "    conn.close()    "
   ]
  },
  {
   "cell_type": "markdown",
   "id": "d94a1a21",
   "metadata": {},
   "source": [
    "## INSERT SQL 을 autocommit=True로 실행하고 psycopg2로 컨트롤하기"
   ]
  },
  {
   "cell_type": "code",
   "execution_count": 42,
   "id": "ec44ee4c",
   "metadata": {},
   "outputs": [],
   "source": [
    "conn = get_connection(True)\n",
    "cur = conn.cursor()"
   ]
  },
  {
   "cell_type": "code",
   "execution_count": 48,
   "id": "ea0af7ec",
   "metadata": {},
   "outputs": [],
   "source": [
    "cur.execute(\"BEGIN;\")\n",
    "cur.execute(\"DELETE FROM name_gender;\")\n",
    "cur.execute(\"INSERT INTO name_gender VALUES ('TRUE','MALE');\")\n",
    "cur.execute(\"END;\")"
   ]
  },
  {
   "cell_type": "markdown",
   "id": "dbd62167",
   "metadata": {},
   "source": [
    "## 잘못된 SQL을 중간에 실행해보기"
   ]
  },
  {
   "cell_type": "code",
   "execution_count": 49,
   "id": "4fdbb610",
   "metadata": {},
   "outputs": [
    {
     "ename": "UndefinedTable",
     "evalue": "오류:  \"name_gender2\" 이름의 릴레이션(relation)이 없습니다\nLINE 1: INSERT INTO name_gender2 VALUES ('TRUE','MALE');\n                    ^\n",
     "output_type": "error",
     "traceback": [
      "\u001b[1;31m---------------------------------------------------------------------------\u001b[0m",
      "\u001b[1;31mUndefinedTable\u001b[0m                            Traceback (most recent call last)",
      "Cell \u001b[1;32mIn[49], line 3\u001b[0m\n\u001b[0;32m      1\u001b[0m cur\u001b[38;5;241m.\u001b[39mexecute(\u001b[38;5;124m\"\u001b[39m\u001b[38;5;124mBEGIN;\u001b[39m\u001b[38;5;124m\"\u001b[39m)\n\u001b[0;32m      2\u001b[0m cur\u001b[38;5;241m.\u001b[39mexecute(\u001b[38;5;124m\"\u001b[39m\u001b[38;5;124mDELETE FROM name_gender;\u001b[39m\u001b[38;5;124m\"\u001b[39m)\n\u001b[1;32m----> 3\u001b[0m \u001b[43mcur\u001b[49m\u001b[38;5;241;43m.\u001b[39;49m\u001b[43mexecute\u001b[49m\u001b[43m(\u001b[49m\u001b[38;5;124;43m\"\u001b[39;49m\u001b[38;5;124;43mINSERT INTO name_gender2 VALUES (\u001b[39;49m\u001b[38;5;124;43m'\u001b[39;49m\u001b[38;5;124;43mTRUE\u001b[39;49m\u001b[38;5;124;43m'\u001b[39;49m\u001b[38;5;124;43m,\u001b[39;49m\u001b[38;5;124;43m'\u001b[39;49m\u001b[38;5;124;43mMALE\u001b[39;49m\u001b[38;5;124;43m'\u001b[39;49m\u001b[38;5;124;43m);\u001b[39;49m\u001b[38;5;124;43m\"\u001b[39;49m\u001b[43m)\u001b[49m\n\u001b[0;32m      4\u001b[0m cur\u001b[38;5;241m.\u001b[39mexecute(\u001b[38;5;124m\"\u001b[39m\u001b[38;5;124mEND;\u001b[39m\u001b[38;5;124m\"\u001b[39m)\n",
      "\u001b[1;31mUndefinedTable\u001b[0m: 오류:  \"name_gender2\" 이름의 릴레이션(relation)이 없습니다\nLINE 1: INSERT INTO name_gender2 VALUES ('TRUE','MALE');\n                    ^\n"
     ]
    }
   ],
   "source": [
    "cur.execute(\"BEGIN;\")\n",
    "cur.execute(\"DELETE FROM name_gender;\")\n",
    "cur.execute(\"INSERT INTO name_gender2 VALUES ('TRUE','MALE');\")"
   ]
  },
  {
   "cell_type": "code",
   "execution_count": 50,
   "id": "08095c69",
   "metadata": {},
   "outputs": [],
   "source": [
    "cur.execute(\"END;\")"
   ]
  },
  {
   "cell_type": "code",
   "execution_count": null,
   "id": "2029d306",
   "metadata": {},
   "outputs": [],
   "source": []
  }
 ],
 "metadata": {
  "kernelspec": {
   "display_name": "Python 3 (ipykernel)",
   "language": "python",
   "name": "python3"
  },
  "language_info": {
   "codemirror_mode": {
    "name": "ipython",
    "version": 3
   },
   "file_extension": ".py",
   "mimetype": "text/x-python",
   "name": "python",
   "nbconvert_exporter": "python",
   "pygments_lexer": "ipython3",
   "version": "3.11.2"
  }
 },
 "nbformat": 4,
 "nbformat_minor": 5
}
